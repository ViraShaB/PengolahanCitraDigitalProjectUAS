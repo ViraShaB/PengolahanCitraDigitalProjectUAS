{
 "cells": [
  {
   "cell_type": "code",
   "execution_count": 7,
   "metadata": {},
   "outputs": [],
   "source": [
    "import numpy as np\n",
    "# dari Python Image Library (PIL) import ImageTk dan Image\n",
    "from PIL import ImageTk, Image\n",
    "# dari matplotlib.figure import Figure untuk membuat visualisasi\n",
    "from matplotlib.figure import Figure\n",
    "# library untuk menampilkan visualisasi di GUI\n",
    "from matplotlib.backends.backend_tkagg import FigureCanvasTkAgg\n",
    "# tkinter adalah libary GUI untuk python\n",
    "from tkinter import Tk, Button, filedialog, Label, Canvas, Message"
   ]
  },
  {
   "cell_type": "code",
   "execution_count": 8,
   "metadata": {},
   "outputs": [],
   "source": [
    "# deklarasi panel untuk menampilkan foto original, foto hitam putih \n",
    "# histogram dan pesan teks hasil deteksi\n",
    "panel_photo = None\n",
    "panel_photo_bw = None\n",
    "panel_histogram_gs =  None\n",
    "panel_message = None"
   ]
  },
  {
   "cell_type": "code",
   "execution_count": 9,
   "metadata": {},
   "outputs": [],
   "source": [
    "# fungsi untuk membuka, menampilkan citra original, \n",
    "# menampilkan foto hitam putih, histogram dan melakukan deteksi\n",
    "def process_img():\n",
    "    # panjang citra di GUI\n",
    "    width = 240\n",
    "    # lebar citra di GUI\n",
    "    height = 240\n",
    "    # mendeklarasikan panel yang sudah dideklarasikan menjadi global\n",
    "    global panel_photo, panel_photo_bw, panel_histogram_gs, panel_message\n",
    "    # jika fungsi process_img() sudah dijalankan sebelumnya\n",
    "    # maka tutup / hapus panel yang sudah ada sebelumnya\n",
    "    if panel_photo != None:\n",
    "        panel_photo.destroy()\n",
    "        panel_photo_bw.destroy()\n",
    "        panel_histogram_gs.get_tk_widget().destroy()\n",
    "        panel_message.destroy()\n",
    "    "
   ]
  },
  {
   "cell_type": "code",
   "execution_count": 5,
   "metadata": {},
   "outputs": [
    {
     "ename": "IndentationError",
     "evalue": "unexpected indent (<ipython-input-5-168f6a209c48>, line 2)",
     "output_type": "error",
     "traceback": [
      "\u001b[1;36m  File \u001b[1;32m\"<ipython-input-5-168f6a209c48>\"\u001b[1;36m, line \u001b[1;32m2\u001b[0m\n\u001b[1;33m    ripe_percentage < max H\u001b[0m\n\u001b[1;37m    ^\u001b[0m\n\u001b[1;31mIndentationError\u001b[0m\u001b[1;31m:\u001b[0m unexpected indent\n"
     ]
    }
   ],
   "source": [
    "# hitung persentase kematangan berdasarkan nilai hue\n",
    "    ripe_percentage < max H\n",
    "    # deklarasi pesan\n",
    "    message = 'Matang'\n",
    "    if ripe_percentage >min H\n",
    "        message = 'Mentah'\n",
    "    # deklarasi panel_message untuk menampilkan pesan status semangka \n",
    "    panel_message = Message(root, text='Status Pisang: {}'.format(message))\n",
    "    # tampilkan pesan di x=10, y=300\n",
    "    panel_message.place(x=10, y=300)"
   ]
  },
  {
   "cell_type": "code",
   "execution_count": null,
   "metadata": {},
   "outputs": [],
   "source": [
    "  "
   ]
  },
  {
   "cell_type": "code",
   "execution_count": null,
   "metadata": {},
   "outputs": [],
   "source": []
  },
  {
   "cell_type": "code",
   "execution_count": null,
   "metadata": {},
   "outputs": [],
   "source": []
  },
  {
   "cell_type": "code",
   "execution_count": null,
   "metadata": {},
   "outputs": [],
   "source": []
  },
  {
   "cell_type": "code",
   "execution_count": null,
   "metadata": {},
   "outputs": [],
   "source": []
  },
  {
   "cell_type": "code",
   "execution_count": null,
   "metadata": {},
   "outputs": [],
   "source": []
  }
 ],
 "metadata": {
  "kernelspec": {
   "display_name": "Python 3",
   "language": "python",
   "name": "python3"
  },
  "language_info": {
   "codemirror_mode": {
    "name": "ipython",
    "version": 3
   },
   "file_extension": ".py",
   "mimetype": "text/x-python",
   "name": "python",
   "nbconvert_exporter": "python",
   "pygments_lexer": "ipython3",
   "version": "3.7.6"
  }
 },
 "nbformat": 4,
 "nbformat_minor": 2
}
